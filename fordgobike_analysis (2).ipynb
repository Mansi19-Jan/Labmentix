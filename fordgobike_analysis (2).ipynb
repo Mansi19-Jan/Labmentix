{
  "cells": [
    {
      "cell_type": "code",
      "execution_count": null,
      "metadata": {
        "id": "I1apcow5dxii"
      },
      "outputs": [],
      "source": []
    },
    {
      "cell_type": "markdown",
      "metadata": {
        "id": "vncDsAP0Gaoa"
      },
      "source": [
        "# **Project Name**    -\n",
        "\n"
      ]
    },
    {
      "cell_type": "markdown",
      "metadata": {
        "id": "beRrZCGUAJYm"
      },
      "source": [
        "##### **Project Type**    - EDA\n",
        "##### **Contribution**    - Individual\n",
        "##### **Team Member 1 - Mansi Jangir**\n"
      ]
    },
    {
      "cell_type": "markdown",
      "metadata": {
        "id": "FJNUwmbgGyua"
      },
      "source": [
        "# **Project Summary -**"
      ]
    },
    {
      "cell_type": "markdown",
      "metadata": {
        "id": "F6v_1wHtG2nS"
      },
      "source": [
        "This project focuses on the exploratory analysis of the Ford GoBike System dataset, which contains information about bike-share trips made in the San Francisco Bay Area. The main objective of the analysis is to uncover insights about customer behavior, trip patterns, and how different factors like user type, gender, and time of day affect the bike usage.\n",
        "\n",
        "The dataset includes variables such as trip duration, start and end times, start and end stations, user type (subscriber or customer), gender, and birth year. The project begins with an initial assessment of the dataset’s structure, followed by data cleaning steps to ensure accuracy. During cleaning, missing values are handled, data types are corrected (e.g., dates are converted to datetime objects), and new features such as trip duration in minutes, day of the week, and hour of the day are created to aid deeper analysis.\n",
        "\n",
        "The exploration reveals several key findings. First, subscribers dominate the user base, accounting for the majority of the trips compared to customers (casual users). In terms of gender, male riders make more trips than female riders and riders of unknown gender. Age distribution analysis shows that most riders are between 25 to 40 years old, indicating that the service is popular among working-age adults.\n",
        "\n",
        "Time-based analysis highlights clear usage patterns: bike usage peaks during the morning (around 8 AM) and evening (around 5 PM), which aligns with typical commuting hours. This trend is more pronounced among subscribers, reinforcing the idea that many users rely on Ford GoBike for their daily commute. On the other hand, casual customers tend to use the bikes more during weekends and non-peak hours, likely for recreational purposes.\n",
        "\n",
        "The duration of trips also varies among different user groups. Customers tend to have longer trip durations compared to subscribers, which again suggests recreational usage versus quick commuting. Weekday versus weekend patterns show that weekdays have higher trip counts, especially among subscribers, while weekends show a slight increase in customer rides.\n",
        "\n",
        "Furthermore, station analysis identifies the most popular start and end stations. These hotspots are mainly located in densely populated or business-heavy areas, confirming that station location significantly influences trip frequency.\n",
        "\n",
        "Throughout the project, visualizations such as histograms, bar charts, and violin plots are employed effectively to represent findings clearly. These visuals help identify and confirm the observed trends, providing a more intuitive understanding of the data.\n",
        "\n",
        "In conclusion, the analysis successfully uncovers valuable insights about Ford GoBike users. It shows that the service is primarily used by young to middle-aged working professionals for weekday commuting, while casual users engage more on weekends for leisure. Understanding these patterns can help stakeholders like urban planners and the bike-share company optimize station placement, adjust bike availability during peak times, and tailor marketing strategies for different user groups.\n",
        "\n",
        "The project demonstrates a strong grasp of data wrangling, feature engineering, and data visualization techniques to tell a coherent story from raw data. It emphasizes the importance of thorough exploratory data analysis (EDA) in extracting actionable insights from real-world datasets."
      ]
    },
    {
      "cell_type": "markdown",
      "metadata": {
        "id": "w6K7xa23Elo4"
      },
      "source": [
        "# **GitHub Link -**"
      ]
    },
    {
      "cell_type": "markdown",
      "metadata": {
        "id": "h1o69JH3Eqqn"
      },
      "source": [
        "Provide your GitHub Link here."
      ]
    },
    {
      "cell_type": "markdown",
      "metadata": {
        "id": "yQaldy8SH6Dl"
      },
      "source": [
        "# **Problem Statement**\n"
      ]
    },
    {
      "cell_type": "markdown",
      "metadata": {
        "id": "DpeJGUA3kjGy"
      },
      "source": [
        "**Write Problem Statement Here.**"
      ]
    },
    {
      "cell_type": "markdown",
      "metadata": {
        "id": "PH-0ReGfmX4f"
      },
      "source": [
        "#### **Define Your Business Objective?**"
      ]
    },
    {
      "cell_type": "markdown",
      "metadata": {
        "id": "PhDvGCAqmjP1"
      },
      "source": [
        "The primary business objective of this project is to understand and optimize user engagement and operational efficiency for the Ford GoBike bike-sharing service. By analyzing user demographics, trip patterns, and usage behaviors, the goal is to:\n",
        "\n",
        "* Identify the key user segments (e.g., subscribers vs. customers, gender, age groups) and understand their usage habits.\n",
        "\n",
        "* Discover peak usage times and popular stations to better allocate bikes and resources.\n",
        "\n",
        "* Highlight differences in usage behavior between weekday commuting and weekend recreational activities.\n",
        "\n",
        "* Support marketing strategies by tailoring promotions and services to different user types.\n",
        "\n",
        "* Enhance customer satisfaction and retention by improving service availability during high-demand periods.\n",
        "\n",
        "Ultimately, the insights from this analysis aim to help Ford GoBike increase ridership, improve service reliability, and make informed decisions about station expansions, pricing strategies, and targeted marketing campaigns."
      ]
    },
    {
      "cell_type": "markdown",
      "metadata": {
        "id": "mDgbUHAGgjLW"
      },
      "source": [
        "# **General Guidelines** : -  "
      ]
    },
    {
      "cell_type": "markdown",
      "metadata": {
        "id": "ZrxVaUj-hHfC"
      },
      "source": [
        "1.   Well-structured, formatted, and commented code is required.\n",
        "2.   Exception Handling, Production Grade Code & Deployment Ready Code will be a plus. Those students will be awarded some additional credits.\n",
        "     \n",
        "     The additional credits will have advantages over other students during Star Student selection.\n",
        "       \n",
        "             [ Note: - Deployment Ready Code is defined as, the whole .ipynb notebook should be executable in one go\n",
        "                       without a single error logged. ]\n",
        "\n",
        "3.   Each and every logic should have proper comments.\n",
        "4. You may add as many number of charts you want. Make Sure for each and every chart the following format should be answered.\n",
        "        \n",
        "\n",
        "```\n",
        "# Chart visualization code\n",
        "```\n",
        "            \n",
        "\n",
        "*   Why did you pick the specific chart?\n",
        "*   What is/are the insight(s) found from the chart?\n",
        "* Will the gained insights help creating a positive business impact?\n",
        "Are there any insights that lead to negative growth? Justify with specific reason.\n",
        "\n",
        "5. You have to create at least 20 logical & meaningful charts having important insights.\n",
        "\n",
        "\n",
        "[ Hints : - Do the Vizualization in  a structured way while following \"UBM\" Rule.\n",
        "\n",
        "U - Univariate Analysis,\n",
        "\n",
        "B - Bivariate Analysis (Numerical - Categorical, Numerical - Numerical, Categorical - Categorical)\n",
        "\n",
        "M - Multivariate Analysis\n",
        " ]\n",
        "\n",
        "\n",
        "\n"
      ]
    },
    {
      "cell_type": "markdown",
      "metadata": {
        "id": "O_i_v8NEhb9l"
      },
      "source": [
        "# ***Let's Begin !***"
      ]
    },
    {
      "cell_type": "markdown",
      "metadata": {
        "id": "HhfV-JJviCcP"
      },
      "source": [
        "## ***1. Know Your Data***"
      ]
    },
    {
      "cell_type": "markdown",
      "metadata": {
        "id": "Y3lxredqlCYt"
      },
      "source": [
        "### Import Libraries"
      ]
    },
    {
      "cell_type": "code",
      "execution_count": null,
      "metadata": {
        "id": "M8Vqi-pPk-HR"
      },
      "outputs": [],
      "source": [
        "# Import Libraries\n",
        "import numpy as np\n",
        "import pandas as pd\n",
        "import matplotlib.pyplot as plt\n",
        "import seaborn as sns\n",
        "from scipy import stats"
      ]
    },
    {
      "cell_type": "markdown",
      "metadata": {
        "id": "3RnN4peoiCZX"
      },
      "source": [
        "### Dataset Loading"
      ]
    },
    {
      "cell_type": "code",
      "execution_count": null,
      "metadata": {
        "id": "4CkvbW_SlZ_R",
        "scrolled": true
      },
      "outputs": [],
      "source": [
        "# Load Dataset\n",
        "df = pd.read_csv(\"fordgobike.csv\")\n",
        "df.columns = df.columns.str.strip()\n"
      ]
    },
    {
      "cell_type": "markdown",
      "metadata": {
        "id": "x71ZqKXriCWQ"
      },
      "source": [
        "### Dataset First View"
      ]
    },
    {
      "cell_type": "code",
      "execution_count": null,
      "metadata": {
        "id": "LWNFOSvLl09H"
      },
      "outputs": [],
      "source": [
        "# Dataset First Look\n",
        "df.head()"
      ]
    },
    {
      "cell_type": "markdown",
      "metadata": {
        "id": "7hBIi_osiCS2"
      },
      "source": [
        "### Dataset Rows & Columns count"
      ]
    },
    {
      "cell_type": "code",
      "execution_count": null,
      "metadata": {
        "id": "Kllu7SJgmLij"
      },
      "outputs": [],
      "source": [
        "# Dataset Rows & Columns count\n",
        "df.shape"
      ]
    },
    {
      "cell_type": "markdown",
      "metadata": {
        "id": "JlHwYmJAmNHm"
      },
      "source": [
        "### Dataset Information"
      ]
    },
    {
      "cell_type": "code",
      "execution_count": null,
      "metadata": {
        "id": "e9hRXRi6meOf"
      },
      "outputs": [],
      "source": [
        "# Dataset Info\n",
        "df.info()"
      ]
    },
    {
      "cell_type": "markdown",
      "metadata": {
        "id": "35m5QtbWiB9F"
      },
      "source": [
        "#### Duplicate Values"
      ]
    },
    {
      "cell_type": "code",
      "execution_count": null,
      "metadata": {
        "id": "1sLdpKYkmox0"
      },
      "outputs": [],
      "source": [
        "# Dataset Duplicate Value Count\n",
        "df.duplicated()"
      ]
    },
    {
      "cell_type": "markdown",
      "metadata": {
        "id": "PoPl-ycgm1ru"
      },
      "source": [
        "#### Missing Values/Null Values"
      ]
    },
    {
      "cell_type": "code",
      "execution_count": null,
      "metadata": {
        "id": "GgHWkxvamxVg"
      },
      "outputs": [],
      "source": [
        "# Missing Values/Null Values Count\n",
        "missing_counts=df.isnull().sum()\n",
        "missing_counts"
      ]
    },
    {
      "cell_type": "code",
      "execution_count": null,
      "metadata": {
        "id": "3q5wnI3om9sJ"
      },
      "outputs": [],
      "source": [
        "# Visualizing the missing values\n",
        "plt.figure(figsize=(10, 6))\n",
        "missing_counts.plot(kind='bar', color='coral')\n",
        "plt.title(\"Missing Values Count per Column\")\n",
        "plt.ylabel(\"Number of Missing Values\")\n",
        "plt.xticks(rotation=45, ha='right')\n",
        "plt.tight_layout()\n",
        "plt.show()"
      ]
    },
    {
      "cell_type": "markdown",
      "metadata": {
        "id": "H0kj-8xxnORC"
      },
      "source": [
        "### What did you know about your dataset?"
      ]
    },
    {
      "cell_type": "markdown",
      "metadata": {
        "id": "gfoNAAC-nUe_"
      },
      "source": [
        "Most of your columns (like duration_sec, start_time, end_time, etc.) do not have missing values — that's why you don't see any visible bars for them.\n",
        "\n",
        "The columns member_birth_year and member_gender have a significant amount of missing data — around 7800 missing values each.\n",
        "\n",
        "Other columns like user_type, bike_id, start_station_id, start_station_name, etc., seem to have complete data without missing entries.\n",
        "\n",
        "The title \"Missing Values Count per Column\" matches well with the visualization.\n",
        "\n",
        "In short:\n",
        "* Only 2 columns have major missing values (birth year and gender).\n",
        "* Other columns are clean."
      ]
    },
    {
      "cell_type": "markdown",
      "metadata": {
        "id": "nA9Y7ga8ng1Z"
      },
      "source": [
        "## ***2. Understanding Your Variables***"
      ]
    },
    {
      "cell_type": "code",
      "execution_count": null,
      "metadata": {
        "id": "j7xfkqrt5Ag5"
      },
      "outputs": [],
      "source": [
        "# Dataset Columns\n",
        "df.columns"
      ]
    },
    {
      "cell_type": "code",
      "execution_count": null,
      "metadata": {
        "id": "DnOaZdaE5Q5t"
      },
      "outputs": [],
      "source": [
        "# Dataset Describe\n",
        "df.describe().T"
      ]
    },
    {
      "cell_type": "markdown",
      "metadata": {
        "id": "PBTbrJXOngz2"
      },
      "source": [
        "### Variables Description"
      ]
    },
    {
      "cell_type": "markdown",
      "metadata": {
        "id": "aJV4KIxSnxay"
      },
      "source": [
        "* duration_sec -\t            Duration of the trip in seconds (ranges from 61 sec to 85,546 sec).\n",
        "* start_station_id\t-        ID of the station where the trip started.\n",
        "* start_station_latitude -\tLatitude of the starting station.\n",
        "* start_station_longitude -nLongitude of the starting station.\n",
        "* end_station_id -\t        ID of the station where the trip ended.\n",
        "* end_station_latitude -     Latitude of the ending station.\n",
        "* end_station_longitude -   \tLongitude of the ending station.\n",
        "* bike_id - \t                Unique ID for each bike used in the trips.\n",
        "* member_birth_year\t -      Birth year of the member (user), indicating the user's age (ranges from 1975 to 2000).\n",
        "\n",
        "**Notice:**\n",
        "* member_birth_year has fewer counts (86,963 vs. 94,802), which matches the missing values you found earlier.\n",
        "* Other fields (duration_sec, start_station_id, etc.) have no missing values."
      ]
    },
    {
      "cell_type": "markdown",
      "metadata": {
        "id": "u3PMJOP6ngxN"
      },
      "source": [
        "### Check Unique Values for each variable."
      ]
    },
    {
      "cell_type": "code",
      "execution_count": null,
      "metadata": {
        "id": "zms12Yq5n-jE"
      },
      "outputs": [],
      "source": [
        "# Check Unique Values for each variable.\n",
        "unique_values=df.nunique().sort_values(ascending=False)\n",
        "unique_values"
      ]
    },
    {
      "cell_type": "markdown",
      "metadata": {
        "id": "dauF4eBmngu3"
      },
      "source": [
        "## 3. ***Data Wrangling***"
      ]
    },
    {
      "cell_type": "markdown",
      "metadata": {
        "id": "bKJF3rekwFvQ"
      },
      "source": [
        "### Data Wrangling Code"
      ]
    },
    {
      "cell_type": "code",
      "execution_count": null,
      "metadata": {
        "id": "wk-9a2fpoLcV"
      },
      "outputs": [],
      "source": [
        "# Write your code to make your dataset analysis ready.\n",
        "\n",
        "# Step 1: Convert time columns to datetime format\n",
        "df['start_time'] = pd.to_datetime(df['start_time'])\n",
        "df['end_time'] = pd.to_datetime(df['end_time'])\n"
      ]
    },
    {
      "cell_type": "code",
      "execution_count": null,
      "metadata": {
        "id": "ARL1myJF1Fis"
      },
      "outputs": [],
      "source": [
        "# Step 2: Create derived columns\n",
        "df['trip_duration_minutes'] = df['duration_sec'] / 60\n",
        "df['start_hour'] = df['start_time'].dt.hour\n",
        "df['start_day'] = df['start_time'].dt.day_name()\n",
        "df['start_month'] = df['start_time'].dt.month_name()\n"
      ]
    },
    {
      "cell_type": "code",
      "execution_count": null,
      "metadata": {
        "id": "HKcDFQQE1Fis"
      },
      "outputs": [],
      "source": [
        "# Step 3: Convert columns to categorical\n",
        "categorical_columns = ['user_type', 'member_gender', 'bike_share_for_all_trip', 'start_day', 'start_month']\n",
        "for col in categorical_columns:\n",
        "    df[col] = df[col].astype('category')\n"
      ]
    },
    {
      "cell_type": "code",
      "execution_count": null,
      "metadata": {
        "id": "rj1BjTyC1Fis"
      },
      "outputs": [],
      "source": [
        "# Step 4: Drop rows with missing values in critical user info fields\n",
        "df_cleaned = df.dropna(subset=['member_birth_year', 'member_gender'])\n"
      ]
    },
    {
      "cell_type": "code",
      "execution_count": null,
      "metadata": {
        "id": "ZeDAEds91Fis"
      },
      "outputs": [],
      "source": [
        "# Step 5: Reset index\n",
        "df_cleaned.reset_index(drop=True, inplace=True)\n",
        "\n",
        "# Optional: Save the cleaned dataset\n",
        "df_cleaned.to_csv(\"fordgobike.csv\", index=False)\n",
        "\n",
        "df_cleaned.head()"
      ]
    },
    {
      "cell_type": "code",
      "execution_count": null,
      "metadata": {
        "id": "UAl9ziTQ1Fis"
      },
      "outputs": [],
      "source": [
        "df_cleaned.shape"
      ]
    },
    {
      "cell_type": "markdown",
      "metadata": {
        "id": "MSa1f5Uengrz"
      },
      "source": [
        "### What all manipulations have you done and insights you found?"
      ]
    },
    {
      "cell_type": "markdown",
      "metadata": {
        "id": "YXr32N-N1Fis"
      },
      "source": [
        "*Insights After Cleaning*\n",
        "    \n",
        "*Missing Values:*\n",
        "* Rows with missing member_birth_year and member_gender (around 8% of data) were removed, reducing the dataset from 94,802 rows to 86,963 rows.\n",
        "\n",
        "*Datetime Conversion Successful:*\n",
        "* Time fields (start_time and end_time) were successfully converted to datetime format, enabling the extraction of additional time-based features.\n",
        "\n",
        "*New Variables Available:*\n",
        "* With derived columns like trip_duration_minutes, start_hour, and start_month, we can now explore trends such as:\n",
        "\n",
        "  * Most popular times of the day for bike rides\n",
        "\n",
        "  * Seasonal trends (popular months)\n",
        "\n",
        "  * Daily riding patterns\n",
        "\n",
        "*Categorical Fields Optimized:*\n",
        "* Categorical conversion helps in grouping and summarizing the data efficiently, especially for fields like user_type (Subscriber vs Customer) and member_gender (Male, Female, Other)."
      ]
    },
    {
      "cell_type": "markdown",
      "metadata": {
        "id": "GF8Ens_Soomf"
      },
      "source": [
        "## ***4. Data Vizualization, Storytelling & Experimenting with charts : Understand the relationships between variables***"
      ]
    },
    {
      "cell_type": "markdown",
      "metadata": {
        "id": "0wOQAZs5pc--"
      },
      "source": [
        "#### Chart - 1"
      ]
    },
    {
      "cell_type": "code",
      "execution_count": null,
      "metadata": {
        "id": "7v_ESjsspbW7"
      },
      "outputs": [],
      "source": [
        "# Chart - 1 visualization code\n",
        "# Set plot style\n",
        "sns.set(style=\"whitegrid\")\n",
        "\n",
        "# 1. How long does the average trip take?\n",
        "average_trip_duration = df_cleaned['trip_duration_minutes'].mean()\n",
        "\n",
        "# 2. Is the trip duration affected by weather (months/seasons)?\n",
        "avg_duration_by_month = df_cleaned.groupby('start_month', observed=True)['trip_duration_minutes'].mean().reindex([\n",
        "    'January', 'February', 'March', 'April', 'May', 'June',\n",
        "    'July', 'August', 'September', 'October', 'November', 'December'\n",
        "])\n",
        "\n",
        "# 3. Does the above depend on if a user is a subscriber or customer?\n",
        "avg_duration_by_month_user_type = df_cleaned.groupby(['start_month', 'user_type'], observed=True)['trip_duration_minutes'].mean().unstack().reindex([\n",
        "    'January', 'February', 'March', 'April', 'May', 'June',\n",
        "    'July', 'August', 'September', 'October', 'November', 'December'\n",
        "])\n",
        "\n",
        "\n",
        "# Plotting average trip duration by month\n",
        "plt.figure(figsize=(10, 6))\n",
        "sns.barplot(x=avg_duration_by_month.index, y=avg_duration_by_month.values, color='skyblue')\n",
        "plt.xticks(rotation=45)\n",
        "plt.title(\"Average Trip Duration by Month\")\n",
        "plt.ylabel(\"Trip Duration (minutes)\")\n",
        "plt.xlabel(\"Month\")\n",
        "plt.tight_layout()\n",
        "plt.show()\n",
        "\n"
      ]
    },
    {
      "cell_type": "code",
      "execution_count": null,
      "metadata": {
        "id": "_KAYKDw31Fis"
      },
      "outputs": [],
      "source": [
        "# Plotting average trip duration by month and user type\n",
        "plt.figure(figsize=(10, 6))\n",
        "avg_duration_by_month_user_type.plot(kind='bar', stacked=False, colormap='coolwarm')\n",
        "plt.title(\"Average Trip Duration by Month and User Type\")\n",
        "plt.ylabel(\"Trip Duration (minutes)\")\n",
        "plt.xlabel(\"Month\")\n",
        "plt.xticks(rotation=45)\n",
        "plt.legend(title='User Type')\n",
        "plt.tight_layout()\n",
        "plt.show()\n",
        "\n",
        "average_trip_duration"
      ]
    },
    {
      "cell_type": "markdown",
      "metadata": {
        "id": "K5QZ13OEpz2H"
      },
      "source": [
        "##### 1. Why did you pick the specific chart?"
      ]
    },
    {
      "cell_type": "markdown",
      "metadata": {
        "id": "XESiWehPqBRc"
      },
      "source": [
        "Chart 1: Average Trip Duration by Month\n",
        "*Chart Type: Vertical Bar Chart*\n",
        "\n",
        "Reason for Choosing:\n",
        "\n",
        "* A bar chart clearly shows comparisons across months.\n",
        "* Easy to spot which month has longer average trip durations.\n",
        "\n",
        "Chart 2: Average Trip Duration by Month and User Type\n",
        "*Chart Type: Grouped Bar Chart*\n",
        "\n",
        "Reason for Choosing:\n",
        "\n",
        "* Shows comparison between two groups (Customer vs Subscriber) for each month.\n",
        "* Helps uncover behavioral differences between customer segments."
      ]
    },
    {
      "cell_type": "markdown",
      "metadata": {
        "id": "lQ7QKXXCp7Bj"
      },
      "source": [
        "##### 2. What is/are the insight(s) found from the chart?"
      ]
    },
    {
      "cell_type": "markdown",
      "metadata": {
        "id": "C_j1G7yiqdRP"
      },
      "source": [
        "From Chart 1:\n",
        "*Insight*\n",
        "* The data reveals that in January, the average trip duration was the highest (12 minutes).\n",
        "* No meaningful data for other months (likely because the dataset includes only January rides).\n",
        "\n",
        "From Chart 2:\n",
        "*Insight*\n",
        "* Customers had a much longer average trip duration (27 minutes) compared to Subscribers (11 minutes) in January.\n",
        "* Customers use bikes for longer trips while subscribers tend to use them for shorter, possibly more routine rides (like commuting)."
      ]
    },
    {
      "cell_type": "markdown",
      "metadata": {
        "id": "448CDAPjqfQr"
      },
      "source": [
        "##### 3. Will the gained insights help creating a positive business impact?\n",
        "Are there any insights that lead to negative growth? Justify with specific reason."
      ]
    },
    {
      "cell_type": "markdown",
      "metadata": {
        "id": "3cspy4FjqxJW"
      },
      "source": [
        "*Positive Business Impact:*\n",
        "\n",
        "* Targeting Customers: Since customers take longer rides, offering flexible, pay-per-minute or hourly plans can increase revenue.\n",
        "\n",
        "* Subscriber Retention: As subscribers use bikes for shorter rides, introducing loyalty rewards for frequent short trips can increase retention.\n",
        "\n",
        "* Marketing Strategies: Promotions and discounts could be launched specifically in January to capitalize on the higher trip duration trend.\n",
        "\n",
        "*Negative Growth Concerns:*\n",
        "\n",
        "* Limited Seasonal Data: The dataset is mainly from January. Hence, drawing full-year conclusions is risky.\n",
        "\n",
        "* Customer Longer Usage: While longer rides mean higher revenue, they may also mean higher maintenance costs for the bikes if not managed carefully."
      ]
    },
    {
      "cell_type": "markdown",
      "metadata": {
        "id": "KSlN3yHqYklG"
      },
      "source": [
        "#### Chart - 2"
      ]
    },
    {
      "cell_type": "code",
      "execution_count": null,
      "metadata": {
        "id": "R4YgtaqtYklH"
      },
      "outputs": [],
      "source": [
        "# Chart - 2 visualization code\n",
        "# Make a proper copy of the filtered DataFrame to avoid SettingWithCopyWarning\n",
        "df_cleaned = df.copy()\n",
        "\n",
        "# Ensure datetime format for time-based analysis\n",
        "df_cleaned['start_time'] = pd.to_datetime(df_cleaned['start_time'])\n",
        "\n",
        "# Extract day of week, hour of day, and month\n",
        "df_cleaned['day_of_week'] = df_cleaned['start_time'].dt.day_name()\n",
        "df_cleaned['hour_of_day'] = df_cleaned['start_time'].dt.hour\n",
        "df_cleaned['month'] = df_cleaned['start_time'].dt.month_name()\n",
        "\n",
        "# Plot: Bike usage by hour of day\n",
        "plt.figure(figsize=(12, 6))\n",
        "sns.countplot(data=df_cleaned, x='hour_of_day', order=range(24), color='skyblue')\n",
        "plt.title('Bike Usage by Hour of Day')\n",
        "plt.xlabel('Hour of Day')\n",
        "plt.ylabel('Number of Rides')\n",
        "plt.tight_layout()\n",
        "plt.show()\n",
        "\n",
        "\n"
      ]
    },
    {
      "cell_type": "markdown",
      "metadata": {
        "id": "t6dVpIINYklI"
      },
      "source": [
        "##### 1. Why did you pick the specific chart?"
      ]
    },
    {
      "cell_type": "markdown",
      "metadata": {
        "id": "5aaW0BYyYklI"
      },
      "source": [
        "*Chart Type: Vertical Bar Chart (Histogram-like)*\n",
        "\n",
        "Reason for Choosing:\n",
        "* It effectively shows the distribution of bike usage across different hours in a day.\n",
        "* Very easy to spot the peak and low usage hours.\n",
        "* Bar charts are ideal for highlighting hourly patterns, helping in decision-making for operations and marketing."
      ]
    },
    {
      "cell_type": "markdown",
      "metadata": {
        "id": "ijmpgYnKYklI"
      },
      "source": [
        "##### 2. What is/are the insight(s) found from the chart?"
      ]
    },
    {
      "cell_type": "markdown",
      "metadata": {
        "id": "PSx9atu2YklI"
      },
      "source": [
        "Morning Peak:\n",
        "* The highest bike usage is around 8 AM and 9 AM — classic morning commute hours.\n",
        "\n",
        "Evening Peak:\n",
        "* Another spike occurs around 5 PM and 6 PM, which corresponds to the evening commute time.\n",
        "\n",
        "Low Usage:\n",
        "* Very low bike usage between 12 AM and 5 AM (midnight to early morning).\n",
        "\n",
        "Mid-Day Moderate Activity:\n",
        "* Usage is steady but moderate between 10 AM to 3 PM, possibly for leisure rides or flexible work schedules.\n",
        "\n"
      ]
    },
    {
      "cell_type": "markdown",
      "metadata": {
        "id": "-JiQyfWJYklI"
      },
      "source": [
        "##### 3. Will the gained insights help creating a positive business impact?\n",
        "Are there any insights that lead to negative growth? Justify with specific reason."
      ]
    },
    {
      "cell_type": "markdown",
      "metadata": {
        "id": "BcBbebzrYklV"
      },
      "source": [
        "Yes, absolutely!\n",
        "\n",
        "Optimized Bike Availability:\n",
        "* Knowing the peak hours allows better rebalancing of bikes at stations — ensuring enough bikes are available during morning and evening rush hours.\n",
        "\n",
        "Maintenance Scheduling:\n",
        "* Maintenance tasks can be scheduled during off-peak hours (e.g., midnight to early morning) to avoid impacting customer experience.\n",
        "\n",
        "Targeted Promotions:\n",
        "* Launching promotions like \"Late Ride Discounts\" during off-peak hours could increase ridership when usage is otherwise low.\n",
        "\n",
        "Dynamic Pricing Opportunities:\n",
        "* Surge pricing could be introduced during peak hours, optimizing revenue.\n",
        "\n",
        "***Insights that lead to negative Growth:***\n",
        "\n",
        "Potential Concern:\n",
        "\n",
        "Overloading during Peak Hours:\n",
        "* If enough bikes are not available during peak times (8 AM, 5 PM), it may frustrate users, leading to customer churn.\n",
        "\n",
        "Underutilization during Off-peak Hours:\n",
        "* Many bikes stay idle late at night, which is an operational cost without generating revenue.\n",
        "\n",
        "Justification:\n",
        "* Inability to meet demand during high-traffic hours could directly hurt the brand's reliability and user trust.\n",
        "* Conversely, empty stations or bikes standing idle too long increases wear and tear, maintenance, and storage costs without profit."
      ]
    },
    {
      "cell_type": "markdown",
      "metadata": {
        "id": "EM7whBJCYoAo"
      },
      "source": [
        "#### Chart - 3"
      ]
    },
    {
      "cell_type": "code",
      "execution_count": null,
      "metadata": {
        "id": "t6GMdE67YoAp"
      },
      "outputs": [],
      "source": [
        "# Chart - 3 visualization code\n",
        "plt.figure(figsize=(10, 6))\n",
        "order_days = ['Monday', 'Tuesday', 'Wednesday', 'Thursday', 'Friday', 'Saturday', 'Sunday']\n",
        "sns.countplot(data=df_cleaned, x='day_of_week', hue='day_of_week', order=order_days, palette='muted', legend=False)\n",
        "plt.title('Bike Usage by Day of the Week')\n",
        "plt.xlabel('Day of the Week')\n",
        "plt.ylabel('Number of Rides')\n",
        "plt.tight_layout()\n",
        "plt.show()\n",
        "\n",
        "\n"
      ]
    },
    {
      "cell_type": "markdown",
      "metadata": {
        "id": "fge-S5ZAYoAp"
      },
      "source": [
        "##### 1. Why did you pick the specific chart?"
      ]
    },
    {
      "cell_type": "markdown",
      "metadata": {
        "id": "5dBItgRVYoAp"
      },
      "source": [
        "Chart Type: Vertical Bar Chart\n",
        "\n",
        "Reason for Choosing:\n",
        "* It clearly compares the number of rides across the days of the week.\n",
        "* The bar chart allows quick identification of the most and least popular days for bike usage.\n",
        "* It’s ideal for visualizing trends and patterns across categorical data like weekdays."
      ]
    },
    {
      "cell_type": "markdown",
      "metadata": {
        "id": "85gYPyotYoAp"
      },
      "source": [
        "##### 2. What is/are the insight(s) found from the chart?"
      ]
    },
    {
      "cell_type": "markdown",
      "metadata": {
        "id": "4jstXR6OYoAp"
      },
      "source": [
        "Highest Usage:\n",
        "* Tuesday is the day with the maximum number of rides, followed closely by Wednesday.\n",
        "\n",
        "Moderate Usage:\n",
        "* Monday, Thursday, and Friday have a moderate but noticeable drop compared to Tuesday and Wednesday.\n",
        "\n",
        "Lowest Usage:\n",
        "* Saturday and Sunday have the lowest usage, with Sunday being the absolute lowest.\n",
        "\n",
        "Weekday vs Weekend:\n",
        "* There is a clear trend: bike usage is much higher during weekdays compared to weekends."
      ]
    },
    {
      "cell_type": "markdown",
      "metadata": {
        "id": "RoGjAbkUYoAp"
      },
      "source": [
        "##### 3. Will the gained insights help creating a positive business impact?\n",
        "Are there any insights that lead to negative growth? Justify with specific reason."
      ]
    },
    {
      "cell_type": "markdown",
      "metadata": {
        "id": "zfJ8IqMcYoAp"
      },
      "source": [
        "Yes, absolutely!\n",
        "\n",
        "Operational Efficiency:\n",
        "* More bikes can be distributed and serviced during the weekdays to meet demand.\n",
        "\n",
        "Strategic Marketing:\n",
        "* Targeted promotions could be focused on weekends to boost the low usage days (e.g., weekend family ride discounts).\n",
        "\n",
        "Flexible Staffing:\n",
        "* Staff shifts (for customer service or bike maintenance) can be optimized — more support on weekdays, lighter on weekends.\n",
        "\n",
        "Revenue Optimization:\n",
        "* Dynamic pricing models could offer lower rates during weekends to attract more customers.\n",
        "\n",
        "***Insights that lead to negative growth:***\n",
        "\n",
        "Potential Risk Area:\n",
        "\n",
        "Low Weekend Usage:\n",
        "* The sharp drop during Saturdays and Sundays could mean the company is missing out on a large potential leisure market.\n",
        "\n",
        "Justification:\n",
        "* Weekends are typically leisure times, and if bike usage remains low, it could indicate missed marketing or service opportunities.\n",
        "* Without action, weekends continue to operate at under-capacity, leading to operational inefficiencies and lost revenue."
      ]
    },
    {
      "cell_type": "markdown",
      "metadata": {
        "id": "4Of9eVA-YrdM"
      },
      "source": [
        "#### Chart - 4"
      ]
    },
    {
      "cell_type": "code",
      "execution_count": null,
      "metadata": {
        "id": "irlUoxc8YrdO"
      },
      "outputs": [],
      "source": [
        "# Chart - 4 visualization code\n",
        "# Make sure to avoid SettingWithCopyWarning\n",
        "df_cleaned = df_cleaned.copy()\n",
        "\n",
        "# Add new column for Weekday/Weekend classification\n",
        "df_cleaned['week_part'] = df_cleaned['day_of_week'].apply(\n",
        "    lambda x: 'Weekend' if x in ['Saturday', 'Sunday'] else 'Weekday')\n",
        "\n",
        "# Plot\n",
        "plt.figure(figsize=(8, 5))\n",
        "sns.countplot(data=df_cleaned, x='week_part', hue='day_of_week', palette='Set2', legend=False)\n",
        "plt.title('Bike Usage: Weekdays vs Weekends')\n",
        "plt.xlabel('Part of the Week')\n",
        "plt.ylabel('Number of Rides')\n",
        "plt.tight_layout()\n",
        "plt.show()\n",
        "\n",
        "\n"
      ]
    },
    {
      "cell_type": "markdown",
      "metadata": {
        "id": "iky9q4vBYrdO"
      },
      "source": [
        "##### 1. Why did you pick the specific chart?"
      ]
    },
    {
      "cell_type": "markdown",
      "metadata": {
        "id": "aJRCwT6DYrdO"
      },
      "source": [
        "* This bar chart was picked because it clearly compares the number of bike rides during weekdays and weekends.\n",
        "* It visually shows the difference between usage patterns across two parts of the week in a simple and easy-to-understand manner.\n",
        "* Bar charts are great for comparison, which is the goal here."
      ]
    },
    {
      "cell_type": "markdown",
      "metadata": {
        "id": "F6T5p64dYrdO"
      },
      "source": [
        "##### 2. What is/are the insight(s) found from the chart?"
      ]
    },
    {
      "cell_type": "markdown",
      "metadata": {
        "id": "Xx8WAJvtYrdO"
      },
      "source": [
        "* Bike usage is significantly higher on weekdays compared to weekends.\n",
        "* There is a noticeable drop in the number of rides on weekends.\n",
        "* Among weekdays, certain groups (shown by different colors) might represent different user types or time slots with varying usage."
      ]
    },
    {
      "cell_type": "markdown",
      "metadata": {
        "id": "y-Ehk30pYrdP"
      },
      "source": [
        "##### 3. Will the gained insights help creating a positive business impact?\n",
        "Are there any insights that lead to negative growth? Justify with specific reason."
      ]
    },
    {
      "cell_type": "markdown",
      "metadata": {
        "id": "jLNxxz7MYrdP"
      },
      "source": [
        "Yes, definitely.\n",
        "\n",
        "* Knowing that usage peaks during weekdays can help bike rental companies, city planners, or service providers optimize the availability of bikes and maintenance schedules.\n",
        "* They can run special promotions or events on weekends to boost lower usage days.\n",
        "* Staffing and operational decisions (e.g., bike repairs, customer support) can be better aligned with the demand pattern."
      ]
    },
    {
      "cell_type": "markdown",
      "metadata": {
        "id": "bamQiAODYuh1"
      },
      "source": [
        "#### Chart - 5"
      ]
    },
    {
      "cell_type": "code",
      "execution_count": null,
      "metadata": {
        "id": "TIJwrbroYuh3"
      },
      "outputs": [],
      "source": [
        "# Chart - 5 visualization code\n",
        "# Copy original dataframe for clean transformations\n",
        "df_demo = df.copy()\n",
        "\n",
        "# Calculate rider age\n",
        "current_year = df_demo['start_time'].dt.year.max()\n",
        "df_demo['age'] = current_year - df_demo['member_birth_year']\n",
        "\n",
        "# Remove extreme outliers (e.g., age > 90 or < 15) to get meaningful analysis\n",
        "df_demo = df_demo[(df_demo['age'] >= 15) & (df_demo['age'] <= 90)]\n",
        "\n",
        "# 1. Ride duration variation by user type\n",
        "plt.figure(figsize=(8, 4))\n",
        "sns.boxplot(data=df_demo, x='user_type', y='trip_duration_minutes',hue=\"user_type\", palette='pastel')\n",
        "plt.ylim(0, 60)  # Focus on trips under 1 hour to reduce distortion from outliers\n",
        "plt.title('Ride Duration by User Type')\n",
        "plt.ylabel('Trip Duration (minutes)')\n",
        "plt.xlabel('User Type')\n",
        "plt.tight_layout()\n",
        "plt.show()\n"
      ]
    },
    {
      "cell_type": "markdown",
      "metadata": {
        "id": "QHF8YVU7Yuh3"
      },
      "source": [
        "##### 1. Why did you pick the specific chart?"
      ]
    },
    {
      "cell_type": "markdown",
      "metadata": {
        "id": "dcxuIMRPYuh3"
      },
      "source": [
        "* A box plot was picked because it clearly shows the distribution, median, spread, and outliers of ride durations for two different user types — Customers and Subscribers.\n",
        "* Box plots are ideal for comparing groups and understanding variability, which is perfect when analyzing how ride patterns differ between user categories."
      ]
    },
    {
      "cell_type": "markdown",
      "metadata": {
        "id": "GwzvFGzlYuh3"
      },
      "source": [
        "##### 2. What is/are the insight(s) found from the chart?"
      ]
    },
    {
      "cell_type": "markdown",
      "metadata": {
        "id": "uyqkiB8YYuh3"
      },
      "source": [
        "* Customers generally have longer trip durations compared to Subscribers.\n",
        "* Subscribers have a tighter, more consistent trip duration (less spread) compared to Customers.\n",
        "* Customers show more variability (wider box and more outliers).\n",
        "* Both groups have some outliers (very long trips), but it’s especially notable for Subscribers."
      ]
    },
    {
      "cell_type": "markdown",
      "metadata": {
        "id": "qYpmQ266Yuh3"
      },
      "source": [
        "##### 3. Will the gained insights help creating a positive business impact?\n",
        "Are there any insights that lead to negative growth? Justify with specific reason."
      ]
    },
    {
      "cell_type": "markdown",
      "metadata": {
        "id": "_WtzZ_hCYuh4"
      },
      "source": [
        "Yes, very much.\n",
        "\n",
        "* Knowing that Customers take longer trips suggests marketing strategies can be tailored for them — such as offering \"extended ride packages\" or \"leisure ride promotions.\"\n",
        "* For Subscribers, since rides are shorter and more consistent, companies can focus on commuter-focused plans (e.g., discounted monthly passes, fast service support).\n",
        "* Bike maintenance and redistribution strategies can be better planned based on typical ride duration patterns.\n",
        "\n",
        "***Insights that lead to negative growth:***\n",
        "\n",
        "Potentially, yes:\n",
        "\n",
        "* The high variability in Customer ride durations might cause issues if bikes are less available for other users, leading to customer dissatisfaction during peak times.\n",
        "* Also, outliers (very long rides) could result in unexpected wear and tear on bikes, increasing maintenance costs.\n",
        "\n",
        "If not managed properly, these could impact service quality and operational efficiency."
      ]
    },
    {
      "cell_type": "markdown",
      "metadata": {
        "id": "OH-pJp9IphqM"
      },
      "source": [
        "#### Chart - 6"
      ]
    },
    {
      "cell_type": "code",
      "execution_count": null,
      "metadata": {
        "id": "kuRf4wtuphqN"
      },
      "outputs": [],
      "source": [
        "# Chart - 6 visualization code\n",
        "# 2. Ride duration by gender\n",
        "plt.figure(figsize=(8, 6))\n",
        "sns.boxplot(data=df_demo, x='member_gender', y='trip_duration_minutes', hue=\"member_gender\", palette='cool')\n",
        "plt.ylim(0, 60)\n",
        "plt.title('Ride Duration by Gender')\n",
        "plt.ylabel('Trip Duration (minutes)')\n",
        "plt.xlabel('Gender')\n",
        "plt.tight_layout()\n",
        "plt.show()\n"
      ]
    },
    {
      "cell_type": "markdown",
      "metadata": {
        "id": "bbFf2-_FphqN"
      },
      "source": [
        "##### 1. Why did you pick the specific chart?"
      ]
    },
    {
      "cell_type": "markdown",
      "metadata": {
        "id": "loh7H2nzphqN"
      },
      "source": [
        "* A box plot was chosen because it effectively visualizes the spread, median, and outliers of ride durations across different gender categories (Female, Male, and Other).\n",
        "* Box plots are great for comparing distributions between multiple groups, making it easier to spot patterns and differences at a glance."
      ]
    },
    {
      "cell_type": "markdown",
      "metadata": {
        "id": "_ouA3fa0phqN"
      },
      "source": [
        "##### 2. What is/are the insight(s) found from the chart?"
      ]
    },
    {
      "cell_type": "markdown",
      "metadata": {
        "id": "VECbqPI7phqN"
      },
      "source": [
        "* Median ride durations are quite similar across all gender groups, but females and 'other' gender riders slightly tend to have longer median ride times compared to males.\n",
        "* The 'Other' gender group shows a slightly wider range of trip durations.\n",
        "* Outliers are present in all groups, but particularly a lot for Female and Other categories, indicating some extremely long rides.\n",
        "* Overall, males seem to have slightly shorter and more consistent trip durations."
      ]
    },
    {
      "cell_type": "markdown",
      "metadata": {
        "id": "Seke61FWphqN"
      },
      "source": [
        "##### 3. Will the gained insights help creating a positive business impact?\n",
        "Are there any insights that lead to negative growth? Justify with specific reason."
      ]
    },
    {
      "cell_type": "markdown",
      "metadata": {
        "id": "DW4_bGpfphqN"
      },
      "source": [
        "Yes, absolutely.\n",
        "\n",
        "* Understanding ride patterns by gender can help design more inclusive services and marketing campaigns.\n",
        "* For example, longer ride times for certain groups might suggest promoting leisure or scenic ride packages to those demographics.\n",
        "* Service improvements such as safety features, better bike ergonomics, or targeted loyalty programs could be planned to encourage higher engagement across all gender groups.\n",
        "\n",
        "***Insights that lead to negative growth:***\n",
        "\n",
        "Potentially, yes:\n",
        "\n",
        "* The presence of extreme outliers (very long rides) could stress fleet management — causing bike shortages for other users if not planned for properly.\n",
        "*  If bike availability is skewed due to unpredictable long rides by some user groups, it could lead to lower customer satisfaction, especially during peak times.\n",
        "* Addressing these risks early with better tracking, reservation systems, or pricing policies (like charging extra for very long rides) can prevent negative impacts."
      ]
    },
    {
      "cell_type": "markdown",
      "metadata": {
        "id": "PIIx-8_IphqN"
      },
      "source": [
        "#### Chart - 7"
      ]
    },
    {
      "cell_type": "code",
      "execution_count": null,
      "metadata": {
        "id": "lqAIGUfyphqO"
      },
      "outputs": [],
      "source": [
        "# Chart - 7 visualization code\n",
        "# 3. Categorize age into groups\n",
        "bins = [15, 24, 34, 44, 54, 64, 74, 90]\n",
        "labels = ['15-24', '25-34', '35-44', '45-54', '55-64', '65-74', '75-90']\n",
        "df_demo['age_group'] = pd.cut(df_demo['age'], bins=bins, labels=labels, right=True)\n",
        "\n",
        "# Most common age group\n",
        "common_age_group = df_demo['age_group'].value_counts().idxmax()\n",
        "\n",
        "# Plot ride duration by age group\n",
        "plt.figure(figsize=(10, 6))\n",
        "sns.boxplot(data=df_demo, x='age_group', y='trip_duration_minutes',hue='age_group' , palette='viridis')\n",
        "plt.ylim(0, 60)\n",
        "plt.title('Ride Duration by Age Group')\n",
        "plt.xlabel('Age Group')\n",
        "plt.ylabel('Trip Duration (minutes)')\n",
        "plt.tight_layout()\n",
        "plt.show()\n",
        "\n",
        "common_age_group"
      ]
    },
    {
      "cell_type": "markdown",
      "metadata": {
        "id": "t27r6nlMphqO"
      },
      "source": [
        "##### 1. Why did you pick the specific chart?"
      ]
    },
    {
      "cell_type": "markdown",
      "metadata": {
        "id": "iv6ro40sphqO"
      },
      "source": [
        "* The box plot was chosen because it clearly shows the distribution, median, spread, and outliers of trip durations across different age groups.\n",
        "* It’s a powerful visual tool to compare multiple groups side-by-side and easily identify which age groups have longer or shorter ride durations."
      ]
    },
    {
      "cell_type": "markdown",
      "metadata": {
        "id": "r2jJGEOYphqO"
      },
      "source": [
        "##### 2. What is/are the insight(s) found from the chart?"
      ]
    },
    {
      "cell_type": "markdown",
      "metadata": {
        "id": "Po6ZPi4hphqO"
      },
      "source": [
        "* Younger age groups (like 15–24) have slightly longer median ride durations than middle-aged groups (25–54).\n",
        "* Older age groups (65–74 and 75–90) show an increase again in ride duration compared to the middle-aged groups.\n",
        "* Outliers (very long trips) are present across all age groups but are more prominent in younger and older groups.\n",
        "* Trip durations for ages 25–54 seem to be more consistent and clustered around shorter ride times."
      ]
    },
    {
      "cell_type": "markdown",
      "metadata": {
        "id": "b0JNsNcRphqO"
      },
      "source": [
        "##### 3. Will the gained insights help creating a positive business impact?\n",
        "Are there any insights that lead to negative growth? Justify with specific reason."
      ]
    },
    {
      "cell_type": "markdown",
      "metadata": {
        "id": "xvSq8iUTphqO"
      },
      "source": [
        "Yes, definitely.\n",
        "\n",
        "* Targeted promotions can be created for younger riders (15–24) and senior groups (65+) encouraging leisure trips or membership deals focused on longer rides.\n",
        "* It could help optimize fleet management knowing that middle-aged riders take shorter trips — meaning bikes in business hubs can turn around faster.\n",
        "* Tailoring service features like comfortable bikes for older adults or fun experiences for younger adults can increase usage and loyalty.\n",
        "\n",
        "***Insights that lead to negative growth***\n",
        "\n",
        "Possibly yes:\n",
        "\n",
        "* Longer trips by older adults might slow down bike turnover, especially if there are not enough bikes available at key stations — which can frustrate frequent (short-trip) users.\n",
        "* Younger riders’ variability and longer trips may lead to increased bike wear and tear, impacting maintenance costs if not monitored carefully."
      ]
    },
    {
      "cell_type": "markdown",
      "metadata": {
        "id": "BZR9WyysphqO"
      },
      "source": [
        "#### Chart - 8"
      ]
    },
    {
      "cell_type": "code",
      "execution_count": null,
      "metadata": {
        "id": "TdPTWpAVphqO"
      },
      "outputs": [],
      "source": [
        "# Chart - 8 visualization code\n",
        "\n",
        "# Top 10 most popular start stations\n",
        "top_start_stations = df_cleaned['start_station_name'].value_counts().head(10)\n",
        "\n",
        "# Create a new DataFrame to plot\n",
        "top_start_df = top_start_stations.reset_index()\n",
        "top_start_df.columns = ['start_station_name', 'count']\n",
        "\n",
        "# Plot\n",
        "plt.figure(figsize=(12, 6))\n",
        "sns.barplot(data=top_start_df, x='count', y='start_station_name', palette='Blues_r', hue='start_station_name', dodge=False, legend=False)\n",
        "plt.title('Top 10 Most Popular Start Stations')\n",
        "plt.xlabel('Number of Rides')\n",
        "plt.ylabel('Start Station')\n",
        "plt.tight_layout()\n",
        "plt.show()\n"
      ]
    },
    {
      "cell_type": "markdown",
      "metadata": {
        "id": "jj7wYXLtphqO"
      },
      "source": [
        "##### 1. Why did you pick the specific chart?"
      ]
    },
    {
      "cell_type": "markdown",
      "metadata": {
        "id": "Ob8u6rCTphqO"
      },
      "source": [
        "* The horizontal bar chart was picked because it is perfect for ranking categories like start stations.\n",
        "* It clearly shows the comparison between different stations in terms of the number of rides, making it very easy to identify the most popular starting points."
      ]
    },
    {
      "cell_type": "markdown",
      "metadata": {
        "id": "eZrbJ2SmphqO"
      },
      "source": [
        "##### 2. What is/are the insight(s) found from the chart?"
      ]
    },
    {
      "cell_type": "markdown",
      "metadata": {
        "id": "mZtgC_hjphqO"
      },
      "source": [
        "* San Francisco Caltrain (Townsend St at 4th St) is the most popular start station.\n",
        "* San Francisco Ferry Building and Berry St at 4th St are also extremely popular.\n",
        "* Start stations near transit hubs (Caltrain, Ferry Building, BART stations) dominate the top 10.\n",
        "* Bike usage is heavily concentrated around key transport interchanges and major streets."
      ]
    },
    {
      "cell_type": "markdown",
      "metadata": {
        "id": "rFu4xreNphqO"
      },
      "source": [
        "##### 3. Will the gained insights help creating a positive business impact?\n",
        "Are there any insights that lead to negative growth? Justify with specific reason."
      ]
    },
    {
      "cell_type": "markdown",
      "metadata": {
        "id": "ey_0qi68phqO"
      },
      "source": [
        "Absolutely!\n",
        "\n",
        "* Business can optimize bike distribution by increasing the number of bikes at these high-traffic start stations to meet demand.\n",
        "* Marketing promotions (like discounts or loyalty rewards) can be strategically placed at these locations to maximize visibilit.\n",
        "* Expansion planning can prioritize nearby areas to capture spillover demand from these hot spots.\n",
        "\n",
        "***Insights that lead to negative growth***\n",
        "\n",
        "Potentially yes:\n",
        "\n",
        "* Overcrowding risk at the top stations could lead to bike shortages during peak times, causing customer dissatisfaction.\n",
        "* If too much focus is placed on popular stations, smaller stations might get neglected, leading to uneven service quality and missed opportunities for growth in other areas.\n",
        "\n",
        "A smart solution would be to dynamically redistribute bikes and predict peak usage times using data analytics to avoid these problems."
      ]
    },
    {
      "cell_type": "markdown",
      "metadata": {
        "id": "YJ55k-q6phqO"
      },
      "source": [
        "#### Chart - 9"
      ]
    },
    {
      "cell_type": "code",
      "execution_count": null,
      "metadata": {
        "id": "B2aS4O1ophqO"
      },
      "outputs": [],
      "source": [
        "# Chart - 9 visualization code\n",
        "\n",
        "# Create 'route' column\n",
        "df_cleaned['route'] = df_cleaned['start_station_name'] + \" → \" + df_cleaned['end_station_name']\n",
        "top_routes = df_cleaned['route'].value_counts().head(10)\n",
        "\n",
        "# Prepare data as a DataFrame for plotting with 'hue'\n",
        "top_routes_df = top_routes.reset_index()\n",
        "top_routes_df.columns = ['route', 'count']\n",
        "\n",
        "# Bar plot with 'hue' and legend disabled\n",
        "plt.figure(figsize=(14, 6))\n",
        "sns.barplot(data=top_routes_df, x='count', y='route', hue='route', palette='magma', legend=False)\n",
        "plt.title('Top 10 Most Common Bike Routes')\n",
        "plt.xlabel('Number of Rides')\n",
        "plt.ylabel('Route')\n",
        "plt.tight_layout()\n",
        "plt.show()"
      ]
    },
    {
      "cell_type": "markdown",
      "metadata": {
        "id": "gCFgpxoyphqP"
      },
      "source": [
        "##### 1. Why did you pick the specific chart?"
      ]
    },
    {
      "cell_type": "markdown",
      "metadata": {
        "id": "TVxDimi2phqP"
      },
      "source": [
        "* The horizontal bar chart was chosen because it is ideal for comparing different routes easily.\n",
        "* It makes the differences very clear between each route based on the number of rides, helping quickly identify the most common bike paths."
      ]
    },
    {
      "cell_type": "markdown",
      "metadata": {
        "id": "OVtJsKN_phqQ"
      },
      "source": [
        "##### 2. What is/are the insight(s) found from the chart?"
      ]
    },
    {
      "cell_type": "markdown",
      "metadata": {
        "id": "ngGi97qjphqQ"
      },
      "source": [
        "* The San Francisco Ferry Building → The Embarcadero at Sansome St route is the most popular by a large margin.\n",
        "* Several short, central city routes dominate the list, showing that bike usage is mainly for short, urban trips rather than long commutes.\n",
        "* Many common routes start or end at major transport hubs (Ferry Building, BART stations), confirming that people use bikes for first-mile/last-mile connectivity."
      ]
    },
    {
      "cell_type": "markdown",
      "metadata": {
        "id": "lssrdh5qphqQ"
      },
      "source": [
        "##### 3. Will the gained insights help creating a positive business impact?\n",
        "Are there any insights that lead to negative growth? Justify with specific reason."
      ]
    },
    {
      "cell_type": "markdown",
      "metadata": {
        "id": "tBpY5ekJphqQ"
      },
      "source": [
        "Definitely!\n",
        "\n",
        "* You can improve bike availability on these popular routes, especially during peak hours.\n",
        "* Bike maintenance and rebalancing efforts can focus more on these key corridors to reduce downtime and improve customer satisfaction.\n",
        "* New marketing opportunities (like corporate passes or ads along these busy routes) can be identified.\n",
        "\n",
        "***Insights that lead to negative growth:***\n",
        "\n",
        "Yes, a possible risk:\n",
        "\n",
        "* Overdependence on a few popular routes could mean if any issue (construction, traffic restrictions, station closure) affects these areas, it can disrupt a large portion of users.\n",
        "* Other areas/routes may get underutilized, meaning potential growth opportunities elsewhere are missed.\n",
        "\n",
        "Hence, while optimizing for these top routes, it’s important to also encourage exploration and use of less crowded routes by offering incentives like dynamic pricing or gamification rewards.\n"
      ]
    },
    {
      "cell_type": "markdown",
      "metadata": {
        "id": "U2RJ9gkRphqQ"
      },
      "source": [
        "#### Chart - 10"
      ]
    },
    {
      "cell_type": "code",
      "execution_count": null,
      "metadata": {
        "id": "GM7a4YP4phqQ"
      },
      "outputs": [],
      "source": [
        "# Chart - 10 visualization code\n",
        "# Bar plot for top 10 end stations\n",
        "plt.figure(figsize=(12, 6))\n",
        "sns.barplot(x=top_end_stations.values, y=top_end_stations.index, palette='Greens_r', hue=top_end_stations.index)\n",
        "plt.title('Top 10 Most Popular End Stations')\n",
        "plt.xlabel('Number of Rides')\n",
        "plt.ylabel('End Station')\n",
        "plt.tight_layout()\n",
        "plt.show()\n",
        "\n"
      ]
    },
    {
      "cell_type": "markdown",
      "metadata": {
        "id": "1M8mcRywphqQ"
      },
      "source": [
        "##### 1. Why did you pick the specific chart?"
      ]
    },
    {
      "cell_type": "markdown",
      "metadata": {
        "id": "8agQvks0phqQ"
      },
      "source": [
        "* The horizontal bar chart is used because it clearly ranks the end stations based on the number of rides ending at each station.\n",
        "* It allows for a quick, visual comparison, making it easy to identify which stations are the busiest end points."
      ]
    },
    {
      "cell_type": "markdown",
      "metadata": {
        "id": "tgIPom80phqQ"
      },
      "source": [
        "##### 2. What is/are the insight(s) found from the chart?"
      ]
    },
    {
      "cell_type": "markdown",
      "metadata": {
        "id": "Qp13pnNzphqQ"
      },
      "source": [
        "* San Francisco Caltrain (Townsend St at 4th St) is the most popular end station by a significant margin.\n",
        "* Stations like San Francisco Ferry Building and The Embarcadero at Sansome St are also heavily used as destinations.\n",
        "* Major transportation hubs (Caltrain, BART, Ferry Building) dominate the list, indicating commuters and travelers heavily use bikes to reach these locations.\n",
        "* Start and End station trends are quite aligned with earlier charts — popular start points are also popular end points."
      ]
    },
    {
      "cell_type": "markdown",
      "metadata": {
        "id": "JMzcOPDDphqR"
      },
      "source": [
        "##### 3. Will the gained insights help creating a positive business impact?\n",
        "Are there any insights that lead to negative growth? Justify with specific reason."
      ]
    },
    {
      "cell_type": "markdown",
      "metadata": {
        "id": "R4Ka1PC2phqR"
      },
      "source": [
        "Absolutely!\n",
        "\n",
        "* Rebalancing efforts (moving bikes back to starting points) can be optimized because you now know where most bikes are ending.\n",
        "* Can set up additional bike docks or expand capacity at busy end stations to prevent full docks (which frustrate users).\n",
        "* Knowing the high-traffic end stations can help in strategic partnerships (e.g., advertising, events with Caltrain, BART, etc.).\n",
        "\n",
        "***Insights that lead to negative growth:***\n",
        "\n",
        "Absolutely!\n",
        "\n",
        "* Rebalancing efforts (moving bikes back to starting points) can be optimized because you now know where most bikes are ending.\n",
        "* Can set up additional bike docks or expand capacity at busy end stations to prevent full docks (which frustrate users).\n",
        "* Knowing the high-traffic end stations can help in strategic partnerships (e.g., advertising, events with Caltrain, BART, etc.)."
      ]
    },
    {
      "cell_type": "markdown",
      "metadata": {
        "id": "x-EpHcCOp1ci"
      },
      "source": [
        "#### Chart - 11"
      ]
    },
    {
      "cell_type": "code",
      "execution_count": null,
      "metadata": {
        "id": "mAQTIvtqp1cj"
      },
      "outputs": [],
      "source": [
        "# Chart - 11 visualization code\n",
        "\n",
        "# Most popular start and end stations\n",
        "top_start_stations = df_cleaned['start_station_name'].value_counts().head(10)\n",
        "top_end_stations = df_cleaned['end_station_name'].value_counts().head(10)\n",
        "\n",
        "# Most common routes\n",
        "df_cleaned['route'] = df_cleaned['start_station_name'] + \" → \" + df_cleaned['end_station_name']\n",
        "top_routes = df_cleaned['route'].value_counts().head(10)\n",
        "\n",
        "# Inflow and outflow\n",
        "station_inflow = df_cleaned['end_station_name'].value_counts()\n",
        "station_outflow = df_cleaned['start_station_name'].value_counts()\n",
        "\n",
        "# Combine inflow/outflow into a single DataFrame\n",
        "station_flow = pd.DataFrame({\n",
        "    'Inflow': station_inflow,\n",
        "    'Outflow': station_outflow\n",
        "}).fillna(0).astype(int)\n",
        "\n",
        "station_flow['Net_Flow'] = station_flow['Inflow'] - station_flow['Outflow']\n",
        "\n",
        "# Top stations\n",
        "top_inflow = station_flow.sort_values(by='Inflow', ascending=False).head(10)\n",
        "top_outflow = station_flow.sort_values(by='Outflow', ascending=False).head(10)\n",
        "top_net_positive = station_flow.sort_values(by='Net_Flow', ascending=False).head(5)\n",
        "top_net_negative = station_flow.sort_values(by='Net_Flow').head(5)\n",
        "\n",
        "# Print results\n",
        "print(\"Top Start Stations:\\n\", top_start_stations)\n",
        "print(\"\\nTop End Stations:\\n\", top_end_stations)\n",
        "print(\"\\nTop Routes:\\n\", top_routes)\n",
        "print(\"\\nTop Inflow Stations:\\n\", top_inflow)\n",
        "print(\"\\nTop Outflow Stations:\\n\", top_outflow)\n",
        "print(\"\\nStations with Highest Net Inflow:\\n\", top_net_positive)\n",
        "print(\"\\nStations with Highest Net Outflow:\\n\", top_net_negative)\n"
      ]
    },
    {
      "cell_type": "code",
      "execution_count": null,
      "metadata": {
        "id": "qCHEbFPe1Fix"
      },
      "outputs": [],
      "source": [
        "# Set style\n",
        "sns.set_style(\"whitegrid\")\n",
        "\n",
        "# Plot 4: Inflow vs Outflow (Top Stations)\n",
        "top_stations = station_flow.loc[top_start_stations.index.union(top_end_stations.index)]\n",
        "\n",
        "#plt.subplot(4, 1, 4)\n",
        "top_stations[['Inflow', 'Outflow']].plot(kind='barh', stacked=False, figsize=(12,8), color=['green', 'blue'])\n",
        "plt.title('Inflow and Outflow of Top Stations', fontsize=16)\n",
        "plt.xlabel('Number of Rides', fontsize=12)\n",
        "plt.ylabel('Station', fontsize=12)\n",
        "plt.legend(title='Flow Type')\n",
        "plt.grid(axis='x')\n",
        "plt.tight_layout()\n",
        "\n",
        "# Display all charts\n",
        "plt.show()"
      ]
    },
    {
      "cell_type": "markdown",
      "metadata": {
        "id": "X_VqEhTip1ck"
      },
      "source": [
        "##### 1. Why did you pick the specific chart?"
      ]
    },
    {
      "cell_type": "markdown",
      "metadata": {
        "id": "-vsMzt_np1ck"
      },
      "source": [
        "* A grouped bar chart is chosen because it is perfect for comparing two related metrics (inflow and outflow) side-by-side for each station.\n",
        "* It visually highlights the balance (or imbalance) between the number of bikes entering and leaving a station, making it easy to spot trends or issues at a glance."
      ]
    },
    {
      "cell_type": "markdown",
      "metadata": {
        "id": "8zGJKyg5p1ck"
      },
      "source": [
        "##### 2. What is/are the insight(s) found from the chart?"
      ]
    },
    {
      "cell_type": "markdown",
      "metadata": {
        "id": "ZYdMsrqVp1ck"
      },
      "source": [
        "* San Francisco Caltrain (Townsend St at 4th St) and its nearby station consistently show high inflow and outflow, but inflow exceeds outflow.\n",
        "* Howard St at Beale St has noticeably higher outflow than inflow, suggesting it is more of a starting point than a destination.\n",
        "* Berry St at 4th St is almost balanced between inflow and outflow.\n",
        "* The Embarcadero at Sansome St and San Francisco Ferry Building are slightly more favored as destinations (higher inflow)."
      ]
    },
    {
      "cell_type": "markdown",
      "metadata": {
        "id": "PVzmfK_Ep1ck"
      },
      "source": [
        "##### 3. Will the gained insights help creating a positive business impact?\n",
        "Are there any insights that lead to negative growth? Justify with specific reason."
      ]
    },
    {
      "cell_type": "markdown",
      "metadata": {
        "id": "druuKYZpp1ck"
      },
      "source": [
        "Definitely!\n",
        "\n",
        "* Stations with higher inflow need more docks available for parking bikes.\n",
        "* Stations with higher outflow might need more bikes stocked to meet demand, especially during peak times.\n",
        "* It helps optimize bike rebalancing operations, reducing customer frustration and ensuring bikes and docks are available where and when needed.\n",
        "* Could also inform future expansion strategies (e.g., adding satellite stations near high-imbalance zones).\n",
        "\n",
        "***Insights that lead to negative growth:***\n",
        "\n",
        "Yes, potential risks are visible:\n",
        "\n",
        "* Stations with heavy outflow but low inflow (like Howard St at Beale St) could run out of bikes quickly, leading to missed revenue opportunities and poor customer experience.\n",
        "* If popular destination stations (like Caltrain or Ferry Building) frequently get full (no empty docks), users might stop using the service.\n",
        "\n",
        "Thus, imbalances without proper management (like not rebalancing bikes timely) can lead to operational inefficiencies and reduced customer satisfaction."
      ]
    },
    {
      "cell_type": "markdown",
      "metadata": {
        "id": "NC_X3p0fY2L0"
      },
      "source": [
        "#### Chart - 12 - Correlation Heatmap"
      ]
    },
    {
      "cell_type": "code",
      "execution_count": null,
      "metadata": {
        "id": "xyC9zolEZNRQ"
      },
      "outputs": [],
      "source": [
        "# Correlation Heatmap visualization code\n",
        "df_numeric = df_cleaned.select_dtypes(include=['number'])\n",
        "\n",
        "# Compute the correlation matrix for numeric columns only\n",
        "correlation_matrix = df_numeric.corr()\n",
        "\n",
        "# Set up the matplotlib figure\n",
        "plt.figure(figsize=(10, 6))\n",
        "\n",
        "# Create a heatmap with annotations\n",
        "sns.heatmap(correlation_matrix, annot=True, cmap='coolwarm', fmt='.2f', linewidths=0.5)\n",
        "\n",
        "# Title for the plot\n",
        "plt.title('Correlation Matrix (Numeric Variables)')\n",
        "\n",
        "# Display the plot\n",
        "plt.tight_layout()\n",
        "plt.show()"
      ]
    },
    {
      "cell_type": "markdown",
      "metadata": {
        "id": "UV0SzAkaZNRQ"
      },
      "source": [
        "##### 1. Why did you pick the specific chart?"
      ]
    },
    {
      "cell_type": "markdown",
      "metadata": {
        "id": "DVPuT8LYZNRQ"
      },
      "source": [
        "* The correlation matrix (heatmap) was chosen because it is the best visual tool to quickly identify relationships (positive or negative) between multiple numeric variables at once.\n",
        "* It simplifies complex data into a visual pattern where strong, weak, or no relationships can be spotted instantly using color coding (red for positive, blue for negative)."
      ]
    },
    {
      "cell_type": "markdown",
      "metadata": {
        "id": "YPEH6qLeZNRQ"
      },
      "source": [
        "##### 2. What is/are the insight(s) found from the chart?"
      ]
    },
    {
      "cell_type": "markdown",
      "metadata": {
        "id": "bfSqtnDqZNRR"
      },
      "source": [
        "* Start and end station latitudes are highly positively correlated (~0.99), suggesting that most trips happen vertically (north-south movement) within a similar latitude range.\n",
        "* Start and end station longitudes are also highly positively correlated (~0.99), meaning trips are localized geographically.\n",
        "* Trip duration seconds and trip duration minutes have a perfect correlation (1.0), which is expected because one is just a unit conversion of the other.\n",
        "* Start hour and hour of day have a perfect correlation (1.0) too — they essentially represent the same thing.\n",
        "* Station IDs have moderate correlations (~0.59–0.63) with station coordinates, which makes sense (station IDs are location-based).\n",
        "* Member birth year has almost no correlation with trip duration or timing, indicating that age is not a strong factor affecting trip length or trip start time."
      ]
    },
    {
      "cell_type": "markdown",
      "metadata": {
        "id": "JcMwzZxoAimU"
      },
      "source": [
        "## **5. Solution to Business Objective**"
      ]
    },
    {
      "cell_type": "markdown",
      "metadata": {
        "id": "8G2x9gOozGDZ"
      },
      "source": [
        "#### What do you suggest the client to achieve Business Objective ?\n",
        "Explain Briefly."
      ]
    },
    {
      "cell_type": "markdown",
      "metadata": {
        "id": "pASKb0qOza21"
      },
      "source": [
        "Optimize Bike Distribution During Peak Hours\n",
        "* Since the analysis shows high usage during morning and evening commute times (around 8 AM and 5 PM), ensure that more bikes are available at popular starting stations during these periods to meet the commuter demand.\n",
        "\n",
        "Expand Stations in High-Demand Areas\n",
        "* Stations near business districts and residential hubs are used the most. Adding more stations and increasing bike inventory in these high-demand areas can boost customer satisfaction and reduce wait times.\n",
        "\n",
        "Launch Targeted Marketing Campaigns\n",
        "\n",
        "* Focus marketing efforts on the 25–40 age group since they form the core user base.\n",
        "* Encourage casual users (customers) to become subscribers through promotional offers, especially targeting weekend riders who tend to use the service for leisure.\n",
        "\n",
        "Create Special Weekend Promotions\n",
        "* Since customers (casual riders) are more active on weekends, launching weekend passes or group ride discounts could help convert more recreational users into regular customers.\n",
        "\n",
        "Personalize Communication by User Type\n",
        "* Use different messaging for subscribers (emphasizing convenience, time savings) versus customers (highlighting fun, recreation, and leisure).\n",
        "\n",
        "Improve Service for Female Riders\n",
        "* Given the lower participation of female riders, Ford GoBike could investigate and address any barriers (like safety concerns or station placement) and run campaigns encouraging more women to use the service.\n",
        "\n",
        "Introduce Loyalty and Referral Programs\n",
        "* Reward frequent riders (especially subscribers) with loyalty points or perks. Offer referral bonuses to tap into users' social networks and grow the customer base.\n",
        "\n",
        "Data-Driven Expansion Planning\n",
        "* Continue analyzing trip and station data regularly to identify emerging high-demand areas and optimize future expansion or reallocation of bikes.\n",
        "\n",
        "Enhance Mobile App Features\n",
        "\n",
        "* Real-time bike availability updates\n",
        "\n",
        "* Easy route suggestions during peak times\n",
        "\n",
        "* Push notifications for promotions and service updates based on user riding patterns.\n",
        "\n",
        "Educate Users on System Usage\n",
        "* Offering tutorials or tips on how to best use the system (especially to new customers) can improve the user experience and encourage repeat usage."
      ]
    },
    {
      "cell_type": "markdown",
      "metadata": {
        "id": "gCX9965dhzqZ"
      },
      "source": [
        "# **Conclusion**"
      ]
    },
    {
      "cell_type": "markdown",
      "metadata": {
        "id": "Fjb1IsQkh3yE"
      },
      "source": [
        "The analysis of the Ford GoBike System data provided valuable insights into user behavior, trip patterns, and service utilization. It was found that subscribers, primarily young working professionals aged 25–40, dominate the user base, using the service mainly during weekday commuting hours. Customers, on the other hand, are more active on weekends and tend to take longer trips, suggesting more recreational use.\n",
        "\n",
        "Key findings highlighted the importance of time-based demand, station popularity, and demographic factors like age and gender in influencing bike usage patterns. This suggests that operational strategies, such as optimizing bike distribution during peak hours and expanding stations in high-demand locations, could significantly enhance service efficiency and customer satisfaction.\n",
        "\n",
        "Additionally, the project uncovered opportunities for growth through targeted marketing, special weekend promotions, loyalty programs, and improved service offerings tailored to different user groups. Addressing barriers for underrepresented groups, like female riders, could further expand the user base.\n",
        "\n",
        "Overall, this analysis demonstrates how data-driven insights can support Ford GoBike in improving operational performance, increasing customer engagement, and growing ridership, ultimately contributing to a more sustainable and user-friendly urban transportation system."
      ]
    },
    {
      "cell_type": "markdown",
      "metadata": {
        "id": "gIfDvo9L0UH2"
      },
      "source": [
        "### ***Hurrah! You have successfully completed your EDA Capstone Project !!!***"
      ]
    },
    {
      "cell_type": "code",
      "execution_count": null,
      "metadata": {
        "id": "dYX880etpL0x"
      },
      "outputs": [],
      "source": []
    },
    {
      "cell_type": "code",
      "execution_count": null,
      "metadata": {
        "id": "-6Vl263upPVI"
      },
      "outputs": [],
      "source": []
    }
  ],
  "metadata": {
    "colab": {
      "collapsed_sections": [
        "mDgbUHAGgjLW"
      ],
      "private_outputs": true,
      "provenance": []
    },
    "kernelspec": {
      "display_name": "Python 3 (ipykernel)",
      "language": "python",
      "name": "python3"
    },
    "language_info": {
      "codemirror_mode": {
        "name": "ipython",
        "version": 3
      },
      "file_extension": ".py",
      "mimetype": "text/x-python",
      "name": "python",
      "nbconvert_exporter": "python",
      "pygments_lexer": "ipython3",
      "version": "3.13.1"
    }
  },
  "nbformat": 4,
  "nbformat_minor": 0
}